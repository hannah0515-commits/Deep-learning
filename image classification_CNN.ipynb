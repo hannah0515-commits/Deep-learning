{
 "cells": [
  {
   "cell_type": "code",
   "execution_count": 3,
   "metadata": {
    "colab": {
     "base_uri": "https://localhost:8080/"
    },
    "id": "yzE0tsbIxj-J",
    "outputId": "b4930be1-5612-468d-c026-f62fb414bba5"
   },
   "outputs": [
    {
     "name": "stdout",
     "output_type": "stream",
     "text": [
      "2.9.2\n"
     ]
    }
   ],
   "source": [
    "import tensorflow as tf  # import libraries\n",
    "import numpy as np\n",
    "import matplotlib.pyplot as plt\n",
    "\n",
    "#check tensorflow version\n",
    "print(tf.__version__)"
   ]
  },
  {
   "cell_type": "code",
   "execution_count": 4,
   "metadata": {
    "colab": {
     "base_uri": "https://localhost:8080/"
    },
    "id": "I1POOgArxsdn",
    "outputId": "bc4dc8fc-f911-465c-8431-a2e4163033be"
   },
   "outputs": [
    {
     "name": "stdout",
     "output_type": "stream",
     "text": [
      "Downloading data from https://storage.googleapis.com/tensorflow/tf-keras-datasets/mnist.npz\n",
      "11490434/11490434 [==============================] - 0s 0us/step\n"
     ]
    }
   ],
   "source": [
    "from keras.datasets import mnist #import data\n",
    "(X_train_full, y_train_full),(X_test, y_test) = mnist.load_data() #load data"
   ]
  },
  {
   "cell_type": "code",
   "execution_count": 5,
   "metadata": {
    "id": "Pmgns4Cexskx"
   },
   "outputs": [],
   "source": [
    "#class_names = [\"T-shirt/top\", \"trouser\", \"pullover\", \"dress\", \"coat\", \"sandal\", \"shirt\", \"sneakers\", \"bag\", \"ankle boot\"] #define class names\n",
    "class_names = [\"0\", \"1\", \"2\", \"3\", \"4\", \"5\", \"6\", \"7\", \"8\", \"9\"] #define class names"
   ]
  },
  {
   "cell_type": "code",
   "execution_count": 6,
   "metadata": {
    "colab": {
     "base_uri": "https://localhost:8080/"
    },
    "id": "O-HU_oxoxsnm",
    "outputId": "95148de6-45e4-49aa-c430-f87f02599b01"
   },
   "outputs": [
    {
     "name": "stdout",
     "output_type": "stream",
     "text": [
      "(60000, 28, 28)\n",
      "(60000,)\n",
      "(10000, 28, 28)\n",
      "(10000,)\n"
     ]
    }
   ],
   "source": [
    "print(X_train_full.shape) #explore data, check shape \n",
    "print(y_train_full.shape)\n",
    "\n",
    "print(X_test.shape)\n",
    "print(y_test.shape)"
   ]
  },
  {
   "cell_type": "code",
   "execution_count": 7,
   "metadata": {
    "colab": {
     "base_uri": "https://localhost:8080/"
    },
    "id": "flPPxzK6xsq9",
    "outputId": "d29c9c63-bf2b-4489-99f2-e7b486601bc5"
   },
   "outputs": [
    {
     "data": {
      "text/plain": [
       "dtype('uint8')"
      ]
     },
     "execution_count": 7,
     "metadata": {},
     "output_type": "execute_result"
    }
   ],
   "source": [
    "X_train_full.dtype #explore data, check data type\n",
    "y_train_full.dtype"
   ]
  },
  {
   "cell_type": "code",
   "execution_count": 8,
   "metadata": {
    "id": "LTEi0cMcxstu"
   },
   "outputs": [],
   "source": [
    "X_valid, X_train = X_train_full[:5000] / 255.0, X_train_full[5000:]/255.0 #preprocession, normalisation, recale the pixel values from 0-255 to the range of 0-1 \n",
    "y_valid, y_train = y_train_full[:5000], y_train_full[5000:]\n",
    "X_test = X_test / 255.0"
   ]
  },
  {
   "cell_type": "code",
   "execution_count": 9,
   "metadata": {
    "colab": {
     "base_uri": "https://localhost:8080/",
     "height": 589
    },
    "id": "cVwRo1IN5vLA",
    "outputId": "baa38b16-06e6-43ab-e25f-b0b086ba2b02"
   },
   "outputs": [
    {
     "data": {
      "image/png": "[encoded data removed]",
      "text/plain": [
       "<Figure size 720x720 with 25 Axes>"
      ]
     },
     "metadata": {},
     "output_type": "display_data"
    }
   ],
   "source": [
    "plt.figure(figsize=(10,10))  #Display first 25 images and its names from the training set\n",
    "\n",
    "for i in range(25):\n",
    "  plt.subplot(5,5,i+1)\n",
    "  plt.xticks([])\n",
    "  plt.yticks([])\n",
    "  plt.grid(False)\n",
    "  plt.imshow(X_train_full[i], cmap = plt.cm.binary)\n",
    "  plt.xlabel(class_names[y_train_full[i]])\n",
    "plt.show()\n",
    "\n",
    "\n"
   ]
  },
  {
   "cell_type": "code",
   "execution_count": 10,
   "metadata": {
    "id": "PlaX5XH95vNr"
   },
   "outputs": [],
   "source": [
    "model = tf.keras.models.Sequential()  #Use Keras sequential API to build your model\n",
    "model.add(tf.keras.layers.Flatten(input_shape= [28,28]))\n",
    "model.add(tf.keras.layers.Dense(300, activation = \"relu\"))\n",
    "model.add(tf.keras.layers.Dense(100, activation = \"relu\"))\n",
    "model.add(tf.keras.layers.Dense(10, activation = \"softmax\"))"
   ]
  },
  {
   "cell_type": "code",
   "execution_count": 11,
   "metadata": {
    "id": "S_Iy7vaT8HPV"
   },
   "outputs": [],
   "source": [
    "model = tf.keras.models.Sequential([\n",
    "    tf.keras.layers.Flatten(input_shape= [28,28]), \n",
    "    tf.keras.layers.Dense(300, activation = \"relu\"), \n",
    "    tf.keras.layers.Dense(100, activation = \"relu\"),\n",
    "    tf.keras.layers.Dense(10, activation = \"softmax\")] )\n",
    "#create our sequential model"
   ]
  },
  {
   "cell_type": "code",
   "execution_count": 12,
   "metadata": {
    "colab": {
     "base_uri": "https://localhost:8080/"
    },
    "id": "4IAWgmzR8HcP",
    "outputId": "f86b557e-ddd8-4f5d-d5f3-e7f65d283187"
   },
   "outputs": [
    {
     "name": "stdout",
     "output_type": "stream",
     "text": [
      "Model: \"sequential_1\"\n",
      "_________________________________________________________________\n",
      " Layer (type)                Output Shape              Param #   \n",
      "=================================================================\n",
      " flatten_1 (Flatten)         (None, 784)               0         \n",
      "                                                                 \n",
      " dense_3 (Dense)             (None, 300)               235500    \n",
      "                                                                 \n",
      " dense_4 (Dense)             (None, 100)               30100     \n",
      "                                                                 \n",
      " dense_5 (Dense)             (None, 10)                1010      \n",
      "                                                                 \n",
      "=================================================================\n",
      "Total params: 266,610\n",
      "Trainable params: 266,610\n",
      "Non-trainable params: 0\n",
      "_________________________________________________________________\n"
     ]
    }
   ],
   "source": [
    "model.summary() #Model Summary"
   ]
  },
  {
   "cell_type": "code",
   "execution_count": 13,
   "metadata": {
    "id": "uAdVY_yr8Hf3"
   },
   "outputs": [],
   "source": [
    "model.compile(loss = \"sparse_categorical_crossentropy\",\n",
    "               optimizer= \"sgd\", \n",
    "               metrics=[\"accuracy\"]) #Tweak learned parameters (learning rate, optimizers, loss functions etc)"
   ]
  },
  {
   "cell_type": "code",
   "execution_count": 19,
   "metadata": {
    "colab": {
     "base_uri": "https://localhost:8080/"
    },
    "id": "Gn4zG80l91IL",
    "outputId": "b60b23fc-e7b7-4450-d582-d9718e3bda19"
   },
   "outputs": [
    {
     "name": "stdout",
     "output_type": "stream",
     "text": [
      "Epoch 1/80\n",
      "1719/1719 [==============================] - 9s 5ms/step - loss: 0.0033 - accuracy: 0.9999 - val_loss: 0.0759 - val_accuracy: 0.9814\n",
      "Epoch 2/80\n",
      "1719/1719 [==============================] - 13s 8ms/step - loss: 0.0032 - accuracy: 0.9999 - val_loss: 0.0766 - val_accuracy: 0.9816\n",
      "Epoch 3/80\n",
      "1719/1719 [==============================] - 9s 5ms/step - loss: 0.0032 - accuracy: 0.9999 - val_loss: 0.0770 - val_accuracy: 0.9818\n",
      "Epoch 4/80\n",
      "1719/1719 [==============================] - 9s 5ms/step - loss: 0.0031 - accuracy: 0.9999 - val_loss: 0.0766 - val_accuracy: 0.9814\n",
      "Epoch 5/80\n",
      "1719/1719 [==============================] - 9s 5ms/step - loss: 0.0030 - accuracy: 1.0000 - val_loss: 0.0767 - val_accuracy: 0.9816\n",
      "Epoch 6/80\n",
      "1719/1719 [==============================] - 9s 5ms/step - loss: 0.0029 - accuracy: 1.0000 - val_loss: 0.0777 - val_accuracy: 0.9826\n",
      "Epoch 7/80\n",
      "1719/1719 [==============================] - 9s 5ms/step - loss: 0.0029 - accuracy: 1.0000 - val_loss: 0.0772 - val_accuracy: 0.9822\n",
      "Epoch 8/80\n",
      "1719/1719 [==============================] - 9s 5ms/step - loss: 0.0028 - accuracy: 1.0000 - val_loss: 0.0771 - val_accuracy: 0.9824\n",
      "Epoch 9/80\n",
      "1719/1719 [==============================] - 9s 5ms/step - loss: 0.0027 - accuracy: 1.0000 - val_loss: 0.0776 - val_accuracy: 0.9818\n",
      "Epoch 10/80\n",
      "1719/1719 [==============================] - 9s 5ms/step - loss: 0.0027 - accuracy: 1.0000 - val_loss: 0.0783 - val_accuracy: 0.9818\n",
      "Epoch 11/80\n",
      "1719/1719 [==============================] - 9s 5ms/step - loss: 0.0026 - accuracy: 1.0000 - val_loss: 0.0775 - val_accuracy: 0.9818\n",
      "Epoch 12/80\n",
      "1719/1719 [==============================] - 9s 5ms/step - loss: 0.0025 - accuracy: 1.0000 - val_loss: 0.0779 - val_accuracy: 0.9818\n",
      "Epoch 13/80\n",
      "1719/1719 [==============================] - 9s 6ms/step - loss: 0.0025 - accuracy: 1.0000 - val_loss: 0.0774 - val_accuracy: 0.9820\n",
      "Epoch 14/80\n",
      "1719/1719 [==============================] - 9s 5ms/step - loss: 0.0024 - accuracy: 1.0000 - val_loss: 0.0790 - val_accuracy: 0.9822\n",
      "Epoch 15/80\n",
      "1719/1719 [==============================] - 9s 5ms/step - loss: 0.0024 - accuracy: 1.0000 - val_loss: 0.0779 - val_accuracy: 0.9818\n",
      "Epoch 16/80\n",
      "1719/1719 [==============================] - 8s 5ms/step - loss: 0.0023 - accuracy: 1.0000 - val_loss: 0.0783 - val_accuracy: 0.9822\n",
      "Epoch 17/80\n",
      "1719/1719 [==============================] - 9s 5ms/step - loss: 0.0023 - accuracy: 1.0000 - val_loss: 0.0786 - val_accuracy: 0.9816\n",
      "Epoch 18/80\n",
      "1719/1719 [==============================] - 9s 5ms/step - loss: 0.0022 - accuracy: 1.0000 - val_loss: 0.0783 - val_accuracy: 0.9820\n",
      "Epoch 19/80\n",
      "1719/1719 [==============================] - 9s 5ms/step - loss: 0.0022 - accuracy: 1.0000 - val_loss: 0.0789 - val_accuracy: 0.9818\n",
      "Epoch 20/80\n",
      "1719/1719 [==============================] - 10s 6ms/step - loss: 0.0021 - accuracy: 1.0000 - val_loss: 0.0788 - val_accuracy: 0.9822\n",
      "Epoch 21/80\n",
      "1719/1719 [==============================] - 8s 5ms/step - loss: 0.0021 - accuracy: 1.0000 - val_loss: 0.0788 - val_accuracy: 0.9826\n",
      "Epoch 22/80\n",
      "1719/1719 [==============================] - 9s 5ms/step - loss: 0.0020 - accuracy: 1.0000 - val_loss: 0.0795 - val_accuracy: 0.9820\n",
      "Epoch 23/80\n",
      "1719/1719 [==============================] - 8s 5ms/step - loss: 0.0020 - accuracy: 1.0000 - val_loss: 0.0799 - val_accuracy: 0.9822\n",
      "Epoch 24/80\n",
      "1719/1719 [==============================] - 8s 5ms/step - loss: 0.0020 - accuracy: 1.0000 - val_loss: 0.0798 - val_accuracy: 0.9818\n",
      "Epoch 25/80\n",
      "1719/1719 [==============================] - 9s 5ms/step - loss: 0.0019 - accuracy: 1.0000 - val_loss: 0.0796 - val_accuracy: 0.9820\n",
      "Epoch 26/80\n",
      "1719/1719 [==============================] - 9s 5ms/step - loss: 0.0019 - accuracy: 1.0000 - val_loss: 0.0792 - val_accuracy: 0.9824\n",
      "Epoch 27/80\n",
      "1719/1719 [==============================] - 8s 5ms/step - loss: 0.0019 - accuracy: 1.0000 - val_loss: 0.0802 - val_accuracy: 0.9822\n",
      "Epoch 28/80\n",
      "1719/1719 [==============================] - 9s 5ms/step - loss: 0.0018 - accuracy: 1.0000 - val_loss: 0.0800 - val_accuracy: 0.9818\n",
      "Epoch 29/80\n",
      "1719/1719 [==============================] - 8s 5ms/step - loss: 0.0018 - accuracy: 1.0000 - val_loss: 0.0801 - val_accuracy: 0.9822\n",
      "Epoch 30/80\n",
      "1719/1719 [==============================] - 9s 5ms/step - loss: 0.0018 - accuracy: 1.0000 - val_loss: 0.0803 - val_accuracy: 0.9822\n",
      "Epoch 31/80\n",
      "1719/1719 [==============================] - 9s 5ms/step - loss: 0.0017 - accuracy: 1.0000 - val_loss: 0.0800 - val_accuracy: 0.9818\n",
      "Epoch 32/80\n",
      "1719/1719 [==============================] - 9s 5ms/step - loss: 0.0017 - accuracy: 1.0000 - val_loss: 0.0805 - val_accuracy: 0.9820\n",
      "Epoch 33/80\n",
      "1719/1719 [==============================] - 10s 6ms/step - loss: 0.0017 - accuracy: 1.0000 - val_loss: 0.0805 - val_accuracy: 0.9822\n",
      "Epoch 34/80\n",
      "1719/1719 [==============================] - 8s 5ms/step - loss: 0.0017 - accuracy: 1.0000 - val_loss: 0.0803 - val_accuracy: 0.9824\n",
      "Epoch 35/80\n",
      "1719/1719 [==============================] - 9s 5ms/step - loss: 0.0016 - accuracy: 1.0000 - val_loss: 0.0810 - val_accuracy: 0.9824\n",
      "Epoch 36/80\n",
      "1719/1719 [==============================] - 8s 5ms/step - loss: 0.0016 - accuracy: 1.0000 - val_loss: 0.0808 - val_accuracy: 0.9822\n",
      "Epoch 37/80\n",
      "1719/1719 [==============================] - 8s 5ms/step - loss: 0.0016 - accuracy: 1.0000 - val_loss: 0.0811 - val_accuracy: 0.9822\n",
      "Epoch 38/80\n",
      "1719/1719 [==============================] - 9s 5ms/step - loss: 0.0015 - accuracy: 1.0000 - val_loss: 0.0813 - val_accuracy: 0.9820\n",
      "Epoch 39/80\n",
      "1719/1719 [==============================] - 9s 5ms/step - loss: 0.0015 - accuracy: 1.0000 - val_loss: 0.0812 - val_accuracy: 0.9820\n",
      "Epoch 40/80\n",
      "1719/1719 [==============================] - 9s 5ms/step - loss: 0.0015 - accuracy: 1.0000 - val_loss: 0.0817 - val_accuracy: 0.9822\n",
      "Epoch 41/80\n",
      "1719/1719 [==============================] - 9s 5ms/step - loss: 0.0015 - accuracy: 1.0000 - val_loss: 0.0818 - val_accuracy: 0.9818\n",
      "Epoch 42/80\n",
      "1719/1719 [==============================] - 9s 5ms/step - loss: 0.0014 - accuracy: 1.0000 - val_loss: 0.0821 - val_accuracy: 0.9828\n",
      "Epoch 43/80\n",
      "1719/1719 [==============================] - 9s 5ms/step - loss: 0.0014 - accuracy: 1.0000 - val_loss: 0.0829 - val_accuracy: 0.9820\n",
      "Epoch 44/80\n",
      "1719/1719 [==============================] - 8s 5ms/step - loss: 0.0014 - accuracy: 1.0000 - val_loss: 0.0817 - val_accuracy: 0.9822\n",
      "Epoch 45/80\n",
      "1719/1719 [==============================] - 9s 5ms/step - loss: 0.0014 - accuracy: 1.0000 - val_loss: 0.0819 - val_accuracy: 0.9820\n",
      "Epoch 46/80\n",
      "1719/1719 [==============================] - 8s 5ms/step - loss: 0.0014 - accuracy: 1.0000 - val_loss: 0.0819 - val_accuracy: 0.9826\n",
      "Epoch 47/80\n",
      "1719/1719 [==============================] - 9s 5ms/step - loss: 0.0014 - accuracy: 1.0000 - val_loss: 0.0822 - val_accuracy: 0.9818\n",
      "Epoch 48/80\n",
      "1719/1719 [==============================] - 9s 5ms/step - loss: 0.0013 - accuracy: 1.0000 - val_loss: 0.0821 - val_accuracy: 0.9822\n",
      "Epoch 49/80\n",
      "1719/1719 [==============================] - 9s 5ms/step - loss: 0.0013 - accuracy: 1.0000 - val_loss: 0.0824 - val_accuracy: 0.9828\n",
      "Epoch 50/80\n",
      "1719/1719 [==============================] - 9s 5ms/step - loss: 0.0013 - accuracy: 1.0000 - val_loss: 0.0827 - val_accuracy: 0.9824\n",
      "Epoch 51/80\n",
      "1719/1719 [==============================] - 8s 5ms/step - loss: 0.0013 - accuracy: 1.0000 - val_loss: 0.0823 - val_accuracy: 0.9826\n",
      "Epoch 52/80\n",
      "1719/1719 [==============================] - 9s 5ms/step - loss: 0.0013 - accuracy: 1.0000 - val_loss: 0.0828 - val_accuracy: 0.9826\n",
      "Epoch 53/80\n",
      "1719/1719 [==============================] - 9s 5ms/step - loss: 0.0012 - accuracy: 1.0000 - val_loss: 0.0830 - val_accuracy: 0.9824\n",
      "Epoch 54/80\n",
      "1719/1719 [==============================] - 9s 5ms/step - loss: 0.0012 - accuracy: 1.0000 - val_loss: 0.0829 - val_accuracy: 0.9824\n",
      "Epoch 55/80\n",
      "1719/1719 [==============================] - 9s 5ms/step - loss: 0.0012 - accuracy: 1.0000 - val_loss: 0.0832 - val_accuracy: 0.9820\n",
      "Epoch 56/80\n",
      "1719/1719 [==============================] - 8s 5ms/step - loss: 0.0012 - accuracy: 1.0000 - val_loss: 0.0832 - val_accuracy: 0.9826\n",
      "Epoch 57/80\n",
      "1719/1719 [==============================] - 8s 5ms/step - loss: 0.0012 - accuracy: 1.0000 - val_loss: 0.0835 - val_accuracy: 0.9822\n",
      "Epoch 58/80\n",
      "1719/1719 [==============================] - 8s 5ms/step - loss: 0.0012 - accuracy: 1.0000 - val_loss: 0.0839 - val_accuracy: 0.9826\n",
      "Epoch 59/80\n",
      "1719/1719 [==============================] - 9s 5ms/step - loss: 0.0012 - accuracy: 1.0000 - val_loss: 0.0837 - val_accuracy: 0.9824\n",
      "Epoch 60/80\n",
      "1719/1719 [==============================] - 9s 5ms/step - loss: 0.0011 - accuracy: 1.0000 - val_loss: 0.0834 - val_accuracy: 0.9828\n",
      "Epoch 61/80\n",
      "1719/1719 [==============================] - 8s 5ms/step - loss: 0.0011 - accuracy: 1.0000 - val_loss: 0.0836 - val_accuracy: 0.9824\n",
      "Epoch 62/80\n",
      "1719/1719 [==============================] - 9s 5ms/step - loss: 0.0011 - accuracy: 1.0000 - val_loss: 0.0844 - val_accuracy: 0.9828\n",
      "Epoch 63/80\n",
      "1719/1719 [==============================] - 9s 5ms/step - loss: 0.0011 - accuracy: 1.0000 - val_loss: 0.0837 - val_accuracy: 0.9826\n",
      "Epoch 64/80\n",
      "1719/1719 [==============================] - 12s 7ms/step - loss: 0.0011 - accuracy: 1.0000 - val_loss: 0.0839 - val_accuracy: 0.9824\n",
      "Epoch 65/80\n",
      "1719/1719 [==============================] - 11s 6ms/step - loss: 0.0011 - accuracy: 1.0000 - val_loss: 0.0841 - val_accuracy: 0.9822\n",
      "Epoch 66/80\n",
      "1719/1719 [==============================] - 8s 5ms/step - loss: 0.0011 - accuracy: 1.0000 - val_loss: 0.0842 - val_accuracy: 0.9822\n",
      "Epoch 67/80\n",
      "1719/1719 [==============================] - 9s 5ms/step - loss: 0.0010 - accuracy: 1.0000 - val_loss: 0.0846 - val_accuracy: 0.9824\n",
      "Epoch 68/80\n",
      "1719/1719 [==============================] - 9s 5ms/step - loss: 0.0010 - accuracy: 1.0000 - val_loss: 0.0846 - val_accuracy: 0.9824\n",
      "Epoch 69/80\n",
      "1719/1719 [==============================] - 9s 5ms/step - loss: 0.0010 - accuracy: 1.0000 - val_loss: 0.0841 - val_accuracy: 0.9824\n",
      "Epoch 70/80\n",
      "1719/1719 [==============================] - 9s 5ms/step - loss: 0.0010 - accuracy: 1.0000 - val_loss: 0.0846 - val_accuracy: 0.9828\n",
      "Epoch 71/80\n",
      "1719/1719 [==============================] - 12s 7ms/step - loss: 9.9437e-04 - accuracy: 1.0000 - val_loss: 0.0847 - val_accuracy: 0.9828\n",
      "Epoch 72/80\n",
      "1719/1719 [==============================] - 9s 5ms/step - loss: 9.8499e-04 - accuracy: 1.0000 - val_loss: 0.0848 - val_accuracy: 0.9822\n",
      "Epoch 73/80\n",
      "1719/1719 [==============================] - 9s 5ms/step - loss: 9.7300e-04 - accuracy: 1.0000 - val_loss: 0.0852 - val_accuracy: 0.9824\n",
      "Epoch 74/80\n",
      "1719/1719 [==============================] - 9s 5ms/step - loss: 9.6381e-04 - accuracy: 1.0000 - val_loss: 0.0847 - val_accuracy: 0.9824\n",
      "Epoch 75/80\n",
      "1719/1719 [==============================] - 9s 5ms/step - loss: 9.4933e-04 - accuracy: 1.0000 - val_loss: 0.0852 - val_accuracy: 0.9822\n",
      "Epoch 76/80\n",
      "1719/1719 [==============================] - 9s 5ms/step - loss: 9.4378e-04 - accuracy: 1.0000 - val_loss: 0.0850 - val_accuracy: 0.9826\n",
      "Epoch 77/80\n",
      "1719/1719 [==============================] - 8s 5ms/step - loss: 9.3147e-04 - accuracy: 1.0000 - val_loss: 0.0852 - val_accuracy: 0.9824\n",
      "Epoch 78/80\n",
      "1719/1719 [==============================] - 8s 5ms/step - loss: 9.2266e-04 - accuracy: 1.0000 - val_loss: 0.0849 - val_accuracy: 0.9822\n",
      "Epoch 79/80\n",
      "1719/1719 [==============================] - 8s 5ms/step - loss: 9.1361e-04 - accuracy: 1.0000 - val_loss: 0.0855 - val_accuracy: 0.9828\n",
      "Epoch 80/80\n",
      "1719/1719 [==============================] - 9s 5ms/step - loss: 9.0369e-04 - accuracy: 1.0000 - val_loss: 0.0853 - val_accuracy: 0.9826\n"
     ]
    }
   ],
   "source": [
    "history = model.fit(X_train, y_train, epochs = 80, validation_data= (X_valid, y_valid)) # Train the model with epochs = 30"
   ]
  },
  {
   "cell_type": "code",
   "execution_count": 20,
   "metadata": {
    "colab": {
     "base_uri": "https://localhost:8080/",
     "height": 324
    },
    "id": "HxWzRbFX91Rs",
    "outputId": "2ff537f1-4b4b-46cf-bddd-0f73fe70dbca"
   },
   "outputs": [
    {
     "data": {
      "image/png": "[encoded data removed]",
      "text/plain": [
       "<Figure size 576x360 with 1 Axes>"
      ]
     },
     "metadata": {
      "needs_background": "light"
     },
     "output_type": "display_data"
    }
   ],
   "source": [
    "import pandas as pd #Plot learning curve\n",
    "pd.DataFrame(history.history).plot(figsize= (8,5))\n",
    "plt.grid(True)\n",
    "plt.gca().set_ylim(0,1) #set the vertical range to [0-1]\n",
    "plt.show()"
   ]
  },
  {
   "cell_type": "code",
   "execution_count": 21,
   "metadata": {
    "colab": {
     "base_uri": "https://localhost:8080/"
    },
    "id": "8S7MiMIf91mR",
    "outputId": "7b478097-78bf-428d-a65f-94e1986a281c"
   },
   "outputs": [
    {
     "name": "stdout",
     "output_type": "stream",
     "text": [
      "313/313 - 1s - loss: 0.0792 - accuracy: 0.9803 - 817ms/epoch - 3ms/step\n",
      "\n",
      "Test accuracy:  0.9803000092506409\n"
     ]
    }
   ],
   "source": [
    "test_loss, test_acc = model.evaluate(X_test, y_test, verbose = 2) #Evaluate the test accuracy\n",
    "print(\"\\nTest accuracy: \", test_acc)"
   ]
  },
  {
   "cell_type": "code",
   "execution_count": 24,
   "metadata": {
    "colab": {
     "base_uri": "https://localhost:8080/"
    },
    "id": "kjpcAkCdAYCX",
    "outputId": "06c0eae5-b2ef-4b33-c874-bf58449746e3"
   },
   "outputs": [
    {
     "name": "stdout",
     "output_type": "stream",
     "text": [
      "313/313 [==============================] - 2s 7ms/step\n"
     ]
    },
    {
     "data": {
      "text/plain": [
       "7"
      ]
     },
     "execution_count": 24,
     "metadata": {},
     "output_type": "execute_result"
    }
   ],
   "source": [
    "probability_model = tf.keras.Sequential([model, tf.keras.layers.Softmax()]) #Make prediction on the test dataset\n",
    "predictions = probability_model.predict(X_test)\n",
    "predictions[0]\n",
    "\n",
    "np.argmax(predictions[0])"
   ]
  },
  {
   "cell_type": "code",
   "execution_count": 23,
   "metadata": {
    "colab": {
     "base_uri": "https://localhost:8080/",
     "height": 589
    },
    "id": "acfx5UWIADac",
    "outputId": "cfa53e55-f3ef-4a3a-89ae-fa6f7db3b6ff"
   },
   "outputs": [
    {
     "data": {
      "image/png": "[encoded data removed]",
      "text/plain": [
       "<Figure size 720x720 with 25 Axes>"
      ]
     },
     "metadata": {},
     "output_type": "display_data"
    }
   ],
   "source": [
    "plt.figure(figsize=(10,10))\n",
    "for i in range(25):\n",
    "  plt.subplot(5,5,i+1)\n",
    "  plt.xticks([])\n",
    "  plt.yticks([])\n",
    "  plt.grid(False)\n",
    "  plt.imshow(X_test[i], cmap = plt.cm.binary)\n",
    "  plt.xlabel(class_names[y_test[i]])\n",
    "plt.show()"
   ]
  },
  {
   "cell_type": "code",
   "execution_count": null,
   "metadata": {
    "id": "aHA1jsjPBVQM"
   },
   "outputs": [],
   "source": [
    "\n"
   ]
  }
 ],
 "metadata": {
  "colab": {
   "collapsed_sections": [],
   "provenance": []
  },
  "kernelspec": {
   "display_name": "Python 3 (ipykernel)",
   "language": "python",
   "name": "python3"
  },
  "language_info": {
   "codemirror_mode": {
    "name": "ipython",
    "version": 3
   },
   "file_extension": ".py",
   "mimetype": "text/x-python",
   "name": "python",
   "nbconvert_exporter": "python",
   "pygments_lexer": "ipython3",
   "version": "3.9.12"
  }
 },
 "nbformat": 4,
 "nbformat_minor": 1
}
