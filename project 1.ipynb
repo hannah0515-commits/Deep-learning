{
 "cells": [
  {
   "cell_type": "code",
   "execution_count": null,
   "metadata": {},
   "outputs": [],
   "source": [
    "import tensorflow as tf  # import libraries\n",
    "import numpy as np\n",
    "import matplotlib.pyplot as plt\n",
    "\n",
    "#check tensorflow version\n",
    "print(tf.__version__)"
   ]
  },
  {
   "cell_type": "code",
   "execution_count": null,
   "metadata": {
    "colab": {
     "base_uri": "https://localhost:8080/"
    },
    "id": "I1POOgArxsdn",
    "outputId": "c8b5c5da-a039-48bf-8ac5-0ce97a4f931e"
   },
   "outputs": [],
   "source": [
    "from keras.datasets import mnist #import data\n",
    "(X_train_full, y_train_full),(X_test, y_test) = mnist.load_data() #load data"
   ]
  },
  {
   "cell_type": "code",
   "execution_count": 1,
   "metadata": {
    "id": "Pmgns4Cexskx"
   },
   "outputs": [],
   "source": [
    "class_names = [\"0\", \"1\", \"2\", \"3\", \"4\", \"5\", \"6\", \"7\", \"8\", \"9\"] #define class names"
   ]
  },
  {
   "cell_type": "code",
   "execution_count": null,
   "metadata": {
    "colab": {
     "base_uri": "https://localhost:8080/"
    },
    "id": "O-HU_oxoxsnm",
    "outputId": "0097469e-f367-4d5b-bcb8-42ab468c6534"
   },
   "outputs": [],
   "source": [
    "print(X_train_full.shape) #explore data, check shape \n",
    "print(y_train_full.shape)\n",
    "\n",
    "print(X_test.shape)\n",
    "print(y_test.shape)"
   ]
  },
  {
   "cell_type": "code",
   "execution_count": null,
   "metadata": {
    "colab": {
     "base_uri": "https://localhost:8080/"
    },
    "id": "flPPxzK6xsq9",
    "outputId": "c778ef37-bde6-41ad-fa31-4f24baff3ead"
   },
   "outputs": [],
   "source": [
    "X_train_full.dtype #explore data, check data type\n",
    "y_train_full.dtype"
   ]
  },
  {
   "cell_type": "code",
   "execution_count": null,
   "metadata": {
    "id": "LTEi0cMcxstu"
   },
   "outputs": [],
   "source": [
    "X_valid, X_train = X_train_full[:5000] / 255.0, X_train_full[5000:]/255.0 #preprocession, normalisation, recale the pixel values from 0-255 to the range of 0-1 \n",
    "y_valid, y_train = y_train_full[:5000], y_train_full[5000:]\n",
    "X_test = X_test / 255.0"
   ]
  },
  {
   "cell_type": "code",
   "execution_count": null,
   "metadata": {
    "colab": {
     "base_uri": "https://localhost:8080/",
     "height": 589
    },
    "id": "cVwRo1IN5vLA",
    "outputId": "4c48a8dd-eb23-4479-fd7f-d2eaa3222b63"
   },
   "outputs": [],
   "source": [
    "plt.figure(figsize=(10,10))  #Display first 25 images and its names from the training set\n",
    "\n",
    "for i in range(25):\n",
    "  plt.subplot(5,5,i+1)\n",
    "  plt.xticks([])\n",
    "  plt.yticks([])\n",
    "  plt.grid(False)\n",
    "  plt.imshow(X_train_full[i], cmap = plt.cm.binary)\n",
    "  plt.xlabel(class_names[y_train_full[i]])\n",
    "plt.show()"
   ]
  },
  {
   "cell_type": "code",
   "execution_count": null,
   "metadata": {
    "id": "PlaX5XH95vNr"
   },
   "outputs": [],
   "source": [
    "model = tf.keras.models.Sequential()  #Use Keras sequential API to build your model\n",
    "model.add(tf.keras.layers.Flatten(input_shape= [28,28]))\n",
    "model.add(tf.keras.layers.Dense(300, activation = \"relu\"))\n",
    "model.add(tf.keras.layers.Dense(100, activation = \"relu\"))\n",
    "model.add(tf.keras.layers.Dense(10, activation = \"softmax\"))"
   ]
  },
  {
   "cell_type": "code",
   "execution_count": null,
   "metadata": {
    "id": "S_Iy7vaT8HPV"
   },
   "outputs": [],
   "source": [
    "model = tf.keras.models.Sequential([\n",
    "    tf.keras.layers.Flatten(input_shape= [28,28]), \n",
    "    tf.keras.layers.Dense(300, activation = \"relu\"), \n",
    "    tf.keras.layers.Dense(100, activation = \"relu\"),\n",
    "    tf.keras.layers.Dense(10, activation = \"softmax\")] )\n",
    "#create our sequential model"
   ]
  },
  {
   "cell_type": "code",
   "execution_count": null,
   "metadata": {
    "colab": {
     "base_uri": "https://localhost:8080/"
    },
    "id": "4IAWgmzR8HcP",
    "outputId": "1566363f-c715-4b78-878b-f322a7462357"
   },
   "outputs": [],
   "source": [
    "model.summary() #Model Summary"
   ]
  },
  {
   "cell_type": "code",
   "execution_count": null,
   "metadata": {
    "id": "uAdVY_yr8Hf3"
   },
   "outputs": [],
   "source": [
    "model.compile(loss = \"sparse_categorical_crossentropy\",\n",
    "               optimizer= \"sgd\", \n",
    "               metrics=[\"accuracy\"]) #Tweak learned parameters (learning rate, optimizers, loss functions etc)"
   ]
  },
  {
   "cell_type": "code",
   "execution_count": null,
   "metadata": {
    "colab": {
     "base_uri": "https://localhost:8080/"
    },
    "id": "Gn4zG80l91IL",
    "outputId": "8cee533f-b45f-4a59-b876-d5b3253edfa7"
   },
   "outputs": [],
   "source": [
    "history = model.fit(X_train, y_train, epochs = 30, validation_data= (X_valid, y_valid)) # Train the model with epochs = 30"
   ]
  },
  {
   "cell_type": "code",
   "execution_count": null,
   "metadata": {
    "colab": {
     "base_uri": "https://localhost:8080/",
     "height": 324
    },
    "id": "HxWzRbFX91Rs",
    "outputId": "42c8aa1e-47ac-4ceb-c3b8-0b0222092079"
   },
   "outputs": [],
   "source": [
    "import pandas as pd #Plot learning curve\n",
    "pd.DataFrame(history.history).plot(figsize= (8,5))\n",
    "plt.grid(True)\n",
    "plt.gca().set_ylim(0,1) #set the vertical range to [0-1]\n",
    "plt.show()"
   ]
  },
  {
   "cell_type": "code",
   "execution_count": null,
   "metadata": {
    "colab": {
     "base_uri": "https://localhost:8080/"
    },
    "id": "8S7MiMIf91mR",
    "outputId": "e21712b0-fdd7-4882-db05-392845cdb3d9"
   },
   "outputs": [],
   "source": [
    "test_loss, test_acc = model.evaluate(X_test, y_test, verbose = 2) #Evaluate the test accuracy\n",
    "print(\"\\nTest accuracy: \", test_acc)"
   ]
  },
  {
   "cell_type": "code",
   "execution_count": null,
   "metadata": {
    "colab": {
     "base_uri": "https://localhost:8080/"
    },
    "id": "kjpcAkCdAYCX",
    "outputId": "a9c44576-5715-4776-9cc6-afb60c5289e7"
   },
   "outputs": [],
   "source": [
    "probability_model = tf.keras.Sequential([model, tf.keras.layers.Softmax()]) #Make prediction on the test dataset\n",
    "predictions = probability_model.predict(X_test)\n",
    "predictions[0]\n",
    "\n",
    "np.argmax(predictions[0])"
   ]
  },
  {
   "cell_type": "code",
   "execution_count": null,
   "metadata": {
    "id": "aHA1jsjPBVQM"
   },
   "outputs": [],
   "source": [
    "#Task 9: data privacy and professional ethics\n",
    "\n",
    "#Do not use content-related personal data without the consent person\n",
    "#protect data by passwords and encription\n",
    "#Inappropriate use of data\n",
    "\n"
   ]
  }
 ],
 "metadata": {
  "colab": {
   "collapsed_sections": [],
   "provenance": []
  },
  "kernelspec": {
   "display_name": "Python 3 (ipykernel)",
   "language": "python",
   "name": "python3"
  },
  "language_info": {
   "codemirror_mode": {
    "name": "ipython",
    "version": 3
   },
   "file_extension": ".py",
   "mimetype": "text/x-python",
   "name": "python",
   "nbconvert_exporter": "python",
   "pygments_lexer": "ipython3",
   "version": "3.9.12"
  }
 },
 "nbformat": 4,
 "nbformat_minor": 1
}
